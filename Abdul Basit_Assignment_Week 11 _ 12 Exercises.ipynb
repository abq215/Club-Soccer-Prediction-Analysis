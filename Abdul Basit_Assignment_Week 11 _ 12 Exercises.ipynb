{
 "cells": [
  {
   "cell_type": "markdown",
   "metadata": {},
   "source": [
    "#  Abdul Basit_Assignment_Week 11 & 12 Exercises\n",
    "\n",
    "File: Abdul Basit_Assignment_Week 11 & 12 Exercises.ipynb\n",
    "Name: Abdul Basit\n",
    "Date: 05/28/2020\n",
    "Course: DSC 540 Data Preparation\n",
    "Activity 11 page 320"
   ]
  },
  {
   "cell_type": "markdown",
   "metadata": {},
   "source": [
    "   "
   ]
  },
  {
   "cell_type": "code",
   "execution_count": 6,
   "metadata": {
    "scrolled": true
   },
   "outputs": [
    {
     "name": "stdout",
     "output_type": "stream",
     "text": [
      "Requirement already satisfied: plotly in c:\\users\\basiab1\\appdata\\local\\continuum\\anaconda3\\lib\\site-packages (4.6.0)\n",
      "Requirement already satisfied: retrying>=1.3.3 in c:\\users\\basiab1\\appdata\\local\\continuum\\anaconda3\\lib\\site-packages (from plotly) (1.3.3)\n",
      "Requirement already satisfied: six in c:\\users\\basiab1\\appdata\\local\\continuum\\anaconda3\\lib\\site-packages (from plotly) (1.11.0)\n",
      "Requirement already satisfied: cufflinks in c:\\users\\basiab1\\appdata\\local\\continuum\\anaconda3\\lib\\site-packages (0.17.3)\n",
      "Requirement already satisfied: colorlover>=0.2.1 in c:\\users\\basiab1\\appdata\\local\\continuum\\anaconda3\\lib\\site-packages (from cufflinks) (0.3.0)\n",
      "Requirement already satisfied: ipython>=5.3.0 in c:\\users\\basiab1\\appdata\\local\\continuum\\anaconda3\\lib\\site-packages (from cufflinks) (7.1.1)\n",
      "Requirement already satisfied: numpy>=1.9.2 in c:\\users\\basiab1\\appdata\\local\\continuum\\anaconda3\\lib\\site-packages (from cufflinks) (1.15.4)\n",
      "Requirement already satisfied: ipywidgets>=7.0.0 in c:\\users\\basiab1\\appdata\\local\\continuum\\anaconda3\\lib\\site-packages (from cufflinks) (7.4.2)\n",
      "Requirement already satisfied: setuptools>=34.4.1 in c:\\users\\basiab1\\appdata\\local\\continuum\\anaconda3\\lib\\site-packages (from cufflinks) (40.5.0)\n",
      "Requirement already satisfied: plotly>=4.1.1 in c:\\users\\basiab1\\appdata\\local\\continuum\\anaconda3\\lib\\site-packages (from cufflinks) (4.6.0)\n",
      "Requirement already satisfied: six>=1.9.0 in c:\\users\\basiab1\\appdata\\local\\continuum\\anaconda3\\lib\\site-packages (from cufflinks) (1.11.0)\n",
      "Requirement already satisfied: pandas>=0.19.2 in c:\\users\\basiab1\\appdata\\local\\continuum\\anaconda3\\lib\\site-packages (from cufflinks) (1.0.3)\n",
      "Requirement already satisfied: pygments in c:\\users\\basiab1\\appdata\\local\\continuum\\anaconda3\\lib\\site-packages (from ipython>=5.3.0->cufflinks) (2.2.0)\n",
      "Requirement already satisfied: backcall in c:\\users\\basiab1\\appdata\\local\\continuum\\anaconda3\\lib\\site-packages (from ipython>=5.3.0->cufflinks) (0.1.0)\n",
      "Requirement already satisfied: colorama; sys_platform == \"win32\" in c:\\users\\basiab1\\appdata\\local\\continuum\\anaconda3\\lib\\site-packages (from ipython>=5.3.0->cufflinks) (0.4.0)\n",
      "Requirement already satisfied: traitlets>=4.2 in c:\\users\\basiab1\\appdata\\local\\continuum\\anaconda3\\lib\\site-packages (from ipython>=5.3.0->cufflinks) (4.3.2)\n",
      "Requirement already satisfied: prompt-toolkit<2.1.0,>=2.0.0 in c:\\users\\basiab1\\appdata\\local\\continuum\\anaconda3\\lib\\site-packages (from ipython>=5.3.0->cufflinks) (2.0.7)\n",
      "Requirement already satisfied: decorator in c:\\users\\basiab1\\appdata\\local\\continuum\\anaconda3\\lib\\site-packages (from ipython>=5.3.0->cufflinks) (4.3.0)\n",
      "Requirement already satisfied: pickleshare in c:\\users\\basiab1\\appdata\\local\\continuum\\anaconda3\\lib\\site-packages (from ipython>=5.3.0->cufflinks) (0.7.5)\n",
      "Requirement already satisfied: jedi>=0.10 in c:\\users\\basiab1\\appdata\\local\\continuum\\anaconda3\\lib\\site-packages (from ipython>=5.3.0->cufflinks) (0.13.1)\n",
      "Requirement already satisfied: widgetsnbextension~=3.4.0 in c:\\users\\basiab1\\appdata\\local\\continuum\\anaconda3\\lib\\site-packages (from ipywidgets>=7.0.0->cufflinks) (3.4.2)\n",
      "Requirement already satisfied: nbformat>=4.2.0 in c:\\users\\basiab1\\appdata\\local\\continuum\\anaconda3\\lib\\site-packages (from ipywidgets>=7.0.0->cufflinks) (4.4.0)\n",
      "Requirement already satisfied: ipykernel>=4.5.1 in c:\\users\\basiab1\\appdata\\local\\continuum\\anaconda3\\lib\\site-packages (from ipywidgets>=7.0.0->cufflinks) (5.1.0)\n",
      "Requirement already satisfied: retrying>=1.3.3 in c:\\users\\basiab1\\appdata\\local\\continuum\\anaconda3\\lib\\site-packages (from plotly>=4.1.1->cufflinks) (1.3.3)\n",
      "Requirement already satisfied: python-dateutil>=2.6.1 in c:\\users\\basiab1\\appdata\\local\\continuum\\anaconda3\\lib\\site-packages (from pandas>=0.19.2->cufflinks) (2.7.5)\n",
      "Requirement already satisfied: pytz>=2017.2 in c:\\users\\basiab1\\appdata\\local\\continuum\\anaconda3\\lib\\site-packages (from pandas>=0.19.2->cufflinks) (2018.7)\n",
      "Requirement already satisfied: ipython-genutils in c:\\users\\basiab1\\appdata\\local\\continuum\\anaconda3\\lib\\site-packages (from traitlets>=4.2->ipython>=5.3.0->cufflinks) (0.2.0)\n",
      "Requirement already satisfied: wcwidth in c:\\users\\basiab1\\appdata\\local\\continuum\\anaconda3\\lib\\site-packages (from prompt-toolkit<2.1.0,>=2.0.0->ipython>=5.3.0->cufflinks) (0.1.7)\n",
      "Requirement already satisfied: parso>=0.3.0 in c:\\users\\basiab1\\appdata\\local\\continuum\\anaconda3\\lib\\site-packages (from jedi>=0.10->ipython>=5.3.0->cufflinks) (0.3.1)\n",
      "Requirement already satisfied: notebook>=4.4.1 in c:\\users\\basiab1\\appdata\\local\\continuum\\anaconda3\\lib\\site-packages (from widgetsnbextension~=3.4.0->ipywidgets>=7.0.0->cufflinks) (5.7.0)\n",
      "Requirement already satisfied: jsonschema!=2.5.0,>=2.4 in c:\\users\\basiab1\\appdata\\local\\continuum\\anaconda3\\lib\\site-packages (from nbformat>=4.2.0->ipywidgets>=7.0.0->cufflinks) (2.6.0)\n",
      "Requirement already satisfied: jupyter-core in c:\\users\\basiab1\\appdata\\local\\continuum\\anaconda3\\lib\\site-packages (from nbformat>=4.2.0->ipywidgets>=7.0.0->cufflinks) (4.4.0)\n",
      "Requirement already satisfied: tornado>=4.2 in c:\\users\\basiab1\\appdata\\local\\continuum\\anaconda3\\lib\\site-packages (from ipykernel>=4.5.1->ipywidgets>=7.0.0->cufflinks) (5.1.1)\n",
      "Requirement already satisfied: jupyter-client in c:\\users\\basiab1\\appdata\\local\\continuum\\anaconda3\\lib\\site-packages (from ipykernel>=4.5.1->ipywidgets>=7.0.0->cufflinks) (5.2.3)\n",
      "Requirement already satisfied: nbconvert in c:\\users\\basiab1\\appdata\\local\\continuum\\anaconda3\\lib\\site-packages (from notebook>=4.4.1->widgetsnbextension~=3.4.0->ipywidgets>=7.0.0->cufflinks) (5.3.1)\n",
      "Requirement already satisfied: terminado>=0.8.1 in c:\\users\\basiab1\\appdata\\local\\continuum\\anaconda3\\lib\\site-packages (from notebook>=4.4.1->widgetsnbextension~=3.4.0->ipywidgets>=7.0.0->cufflinks) (0.8.1)\n",
      "Requirement already satisfied: jinja2 in c:\\users\\basiab1\\appdata\\local\\continuum\\anaconda3\\lib\\site-packages (from notebook>=4.4.1->widgetsnbextension~=3.4.0->ipywidgets>=7.0.0->cufflinks) (2.10)\n",
      "Requirement already satisfied: pyzmq>=17 in c:\\users\\basiab1\\appdata\\local\\continuum\\anaconda3\\lib\\site-packages (from notebook>=4.4.1->widgetsnbextension~=3.4.0->ipywidgets>=7.0.0->cufflinks) (17.1.2)\n",
      "Requirement already satisfied: Send2Trash in c:\\users\\basiab1\\appdata\\local\\continuum\\anaconda3\\lib\\site-packages (from notebook>=4.4.1->widgetsnbextension~=3.4.0->ipywidgets>=7.0.0->cufflinks) (1.5.0)\n",
      "Requirement already satisfied: prometheus-client in c:\\users\\basiab1\\appdata\\local\\continuum\\anaconda3\\lib\\site-packages (from notebook>=4.4.1->widgetsnbextension~=3.4.0->ipywidgets>=7.0.0->cufflinks) (0.4.2)\n",
      "Requirement already satisfied: mistune>=0.7.4 in c:\\users\\basiab1\\appdata\\local\\continuum\\anaconda3\\lib\\site-packages (from nbconvert->notebook>=4.4.1->widgetsnbextension~=3.4.0->ipywidgets>=7.0.0->cufflinks) (0.8.4)\n",
      "Requirement already satisfied: pandocfilters>=1.4.1 in c:\\users\\basiab1\\appdata\\local\\continuum\\anaconda3\\lib\\site-packages (from nbconvert->notebook>=4.4.1->widgetsnbextension~=3.4.0->ipywidgets>=7.0.0->cufflinks) (1.4.2)\n",
      "Requirement already satisfied: testpath in c:\\users\\basiab1\\appdata\\local\\continuum\\anaconda3\\lib\\site-packages (from nbconvert->notebook>=4.4.1->widgetsnbextension~=3.4.0->ipywidgets>=7.0.0->cufflinks) (0.4.2)\n",
      "Requirement already satisfied: entrypoints>=0.2.2 in c:\\users\\basiab1\\appdata\\local\\continuum\\anaconda3\\lib\\site-packages (from nbconvert->notebook>=4.4.1->widgetsnbextension~=3.4.0->ipywidgets>=7.0.0->cufflinks) (0.2.3)\n",
      "Requirement already satisfied: bleach in c:\\users\\basiab1\\appdata\\local\\continuum\\anaconda3\\lib\\site-packages (from nbconvert->notebook>=4.4.1->widgetsnbextension~=3.4.0->ipywidgets>=7.0.0->cufflinks) (3.0.2)\n",
      "Requirement already satisfied: MarkupSafe>=0.23 in c:\\users\\basiab1\\appdata\\local\\continuum\\anaconda3\\lib\\site-packages (from jinja2->notebook>=4.4.1->widgetsnbextension~=3.4.0->ipywidgets>=7.0.0->cufflinks) (1.1.0)\n",
      "Requirement already satisfied: webencodings in c:\\users\\basiab1\\appdata\\local\\continuum\\anaconda3\\lib\\site-packages (from bleach->nbconvert->notebook>=4.4.1->widgetsnbextension~=3.4.0->ipywidgets>=7.0.0->cufflinks) (0.5.1)\n"
     ]
    },
    {
     "name": "stderr",
     "output_type": "stream",
     "text": [
      "'apt-get' is not recognized as an internal or external command,\n",
      "operable program or batch file.\n",
      "'apt-get' is not recognized as an internal or external command,\n",
      "operable program or batch file.\n"
     ]
    },
    {
     "name": "stdout",
     "output_type": "stream",
     "text": [
      "Requirement already satisfied: tabula-py in c:\\users\\basiab1\\appdata\\local\\continuum\\anaconda3\\lib\\site-packages (2.1.0)\n",
      "Requirement already satisfied: xlrd in c:\\users\\basiab1\\appdata\\local\\continuum\\anaconda3\\lib\\site-packages (1.1.0)\n",
      "Requirement already satisfied: lxml in c:\\users\\basiab1\\appdata\\local\\continuum\\anaconda3\\lib\\site-packages (4.2.5)\n",
      "Requirement already satisfied: pandas>=0.25.3 in c:\\users\\basiab1\\appdata\\local\\continuum\\anaconda3\\lib\\site-packages (from tabula-py) (1.0.3)\n",
      "Requirement already satisfied: distro in c:\\users\\basiab1\\appdata\\local\\continuum\\anaconda3\\lib\\site-packages (from tabula-py) (1.5.0)\n",
      "Requirement already satisfied: numpy in c:\\users\\basiab1\\appdata\\local\\continuum\\anaconda3\\lib\\site-packages (from tabula-py) (1.15.4)\n",
      "Requirement already satisfied: pytz>=2017.2 in c:\\users\\basiab1\\appdata\\local\\continuum\\anaconda3\\lib\\site-packages (from pandas>=0.25.3->tabula-py) (2018.7)\n",
      "Requirement already satisfied: python-dateutil>=2.6.1 in c:\\users\\basiab1\\appdata\\local\\continuum\\anaconda3\\lib\\site-packages (from pandas>=0.25.3->tabula-py) (2.7.5)\n",
      "Requirement already satisfied: six>=1.5 in c:\\users\\basiab1\\appdata\\local\\continuum\\anaconda3\\lib\\site-packages (from python-dateutil>=2.6.1->pandas>=0.25.3->tabula-py) (1.11.0)\n",
      "Requirement already satisfied: tweepy in c:\\users\\basiab1\\appdata\\local\\continuum\\anaconda3\\lib\\site-packages (3.8.0)\n",
      "Requirement already satisfied: requests>=2.11.1 in c:\\users\\basiab1\\appdata\\local\\continuum\\anaconda3\\lib\\site-packages (from tweepy) (2.20.1)\n",
      "Requirement already satisfied: requests-oauthlib>=0.7.0 in c:\\users\\basiab1\\appdata\\local\\continuum\\anaconda3\\lib\\site-packages (from tweepy) (1.3.0)\n",
      "Requirement already satisfied: six>=1.10.0 in c:\\users\\basiab1\\appdata\\local\\continuum\\anaconda3\\lib\\site-packages (from tweepy) (1.11.0)\n",
      "Requirement already satisfied: PySocks>=1.5.7 in c:\\users\\basiab1\\appdata\\local\\continuum\\anaconda3\\lib\\site-packages (from tweepy) (1.6.8)\n",
      "Requirement already satisfied: idna<2.8,>=2.5 in c:\\users\\basiab1\\appdata\\local\\continuum\\anaconda3\\lib\\site-packages (from requests>=2.11.1->tweepy) (2.7)\n",
      "Requirement already satisfied: urllib3<1.25,>=1.21.1 in c:\\users\\basiab1\\appdata\\local\\continuum\\anaconda3\\lib\\site-packages (from requests>=2.11.1->tweepy) (1.23)\n",
      "Requirement already satisfied: chardet<3.1.0,>=3.0.2 in c:\\users\\basiab1\\appdata\\local\\continuum\\anaconda3\\lib\\site-packages (from requests>=2.11.1->tweepy) (3.0.4)\n",
      "Requirement already satisfied: certifi>=2017.4.17 in c:\\users\\basiab1\\appdata\\local\\continuum\\anaconda3\\lib\\site-packages (from requests>=2.11.1->tweepy) (2019.6.16)\n",
      "Requirement already satisfied: oauthlib>=3.0.0 in c:\\users\\basiab1\\appdata\\local\\continuum\\anaconda3\\lib\\site-packages (from requests-oauthlib>=0.7.0->tweepy) (3.1.0)\n",
      "Collecting Tkinter\n"
     ]
    },
    {
     "name": "stderr",
     "output_type": "stream",
     "text": [
      "  Could not find a version that satisfies the requirement Tkinter (from versions: )\n",
      "No matching distribution found for Tkinter\n"
     ]
    },
    {
     "name": "stdout",
     "output_type": "stream",
     "text": [
      "Requirement already satisfied: Textblob in c:\\users\\basiab1\\appdata\\local\\continuum\\anaconda3\\lib\\site-packages (0.15.3)\n",
      "Requirement already satisfied: nltk>=3.1 in c:\\users\\basiab1\\appdata\\local\\continuum\\anaconda3\\lib\\site-packages (from Textblob) (3.3)\n",
      "Requirement already satisfied: six in c:\\users\\basiab1\\appdata\\local\\continuum\\anaconda3\\lib\\site-packages (from nltk>=3.1->Textblob) (1.11.0)\n",
      "Collecting matplotlib==1.4.3 (from -r requirements.txt (line 1))\n",
      "  Using cached https://files.pythonhosted.org/packages/bb/ac/485df0ecb15aa6fec1991945dc0cabfeb724a64f6729e34bab3c6a766813/matplotlib-1.4.3.tar.gz\n",
      "    Complete output from command python setup.py egg_info:\n",
      "    ============================================================================\n",
      "    Edit setup.cfg to change the build options\n",
      "    \n",
      "    BUILDING MATPLOTLIB\n",
      "                matplotlib: yes [1.4.3]\n",
      "                    python: yes [3.7.1 (default, Oct 28 2018, 08:39:03) [MSC\n",
      "                            v.1912 64 bit (AMD64)]]\n",
      "                  platform: yes [win32]\n",
      "    \n",
      "    REQUIRED DEPENDENCIES AND EXTENSIONS\n",
      "                     numpy: yes [version 1.15.4]\n",
      "                       six: yes [using six version 1.11.0]\n",
      "                  dateutil: yes [using dateutil version 2.7.5]\n",
      "                      pytz: yes [using pytz version 2018.7]\n",
      "                   tornado: yes [using tornado version 5.1.1]\n",
      "                 pyparsing: yes [using pyparsing version 2.3.0]\n",
      "                     pycxx: yes [Official versions of PyCXX are not compatible\n",
      "                            with matplotlib on Python 3.x, since they lack\n",
      "                            support for the buffer object.  Using local copy]\n",
      "                    libagg: yes [pkg-config information for 'libagg' could not\n",
      "                            be found. Using local copy.]\n",
      "                  freetype: no  [The C/C++ header for freetype (ft2build.h)\n",
      "                            could not be found.  You may need to install the\n",
      "                            development package.]\n",
      "                       png: no  [The C/C++ header for png (png.h) could not be\n",
      "                            found.  You may need to install the development\n",
      "                            package.]\n",
      "                     qhull: yes [pkg-config information for 'qhull' could not be\n",
      "                            found. Using local copy.]\n",
      "    \n",
      "    OPTIONAL SUBPACKAGES\n",
      "               sample_data: yes [installing]\n",
      "                  toolkits: yes [installing]\n",
      "                     tests: yes [using nose version 1.3.7 / using unittest.mock]\n",
      "            toolkits_tests: yes [using nose version 1.3.7 / using unittest.mock]\n",
      "    \n",
      "    OPTIONAL BACKEND EXTENSIONS\n",
      "                    macosx: no  [Mac OS-X only]\n",
      "                    qt5agg: yes [installing, Qt: 5.9.6, PyQt: 5.9.6]\n",
      "                    qt4agg: no  [PyQt4 not found]\n",
      "                    pyside: no  [PySide not found]\n",
      "                   gtk3agg: no  [Requires pygobject to be installed.]\n",
      "                 gtk3cairo: no  [Requires cairocffi or pycairo to be installed.]\n",
      "                    gtkagg: no  [Requires pygtk]\n",
      "                     tkagg: no  [The C/C++ header for Tk (tk.h) could not be\n",
      "                            found.  You may need to install the development\n",
      "                            package.]\n",
      "                     wxagg: no  [requires wxPython]\n",
      "                       gtk: no  [Requires pygtk]\n",
      "                       agg: yes [installing]\n",
      "                     cairo: no  [cairocffi or pycairo not found]\n",
      "                 windowing: yes [installing, installing]\n",
      "    \n",
      "    OPTIONAL LATEX DEPENDENCIES\n",
      "                    dvipng: no\n",
      "               ghostscript: no\n",
      "                     latex: no\n",
      "                   pdftops: no\n",
      "    \n",
      "    ============================================================================\n",
      "                            * The following required packages can not be built:\n",
      "                            * freetype, png\n",
      "    \n",
      "    ----------------------------------------\n"
     ]
    },
    {
     "name": "stderr",
     "output_type": "stream",
     "text": [
      "Command \"python setup.py egg_info\" failed with error code 1 in C:\\Users\\basiab1\\AppData\\Local\\Temp\\pip-install-r72ktpou\\matplotlib\\\n"
     ]
    },
    {
     "name": "stdout",
     "output_type": "stream",
     "text": [
      "Requirement already satisfied: virtualenv in c:\\users\\basiab1\\appdata\\local\\continuum\\anaconda3\\lib\\site-packages (20.0.18)\n",
      "Requirement already satisfied: appdirs<2,>=1.4.3 in c:\\users\\basiab1\\appdata\\local\\continuum\\anaconda3\\lib\\site-packages (from virtualenv) (1.4.3)\n",
      "Requirement already satisfied: importlib-metadata<2,>=0.12; python_version < \"3.8\" in c:\\users\\basiab1\\appdata\\local\\continuum\\anaconda3\\lib\\site-packages (from virtualenv) (1.6.0)\n",
      "Requirement already satisfied: six<2,>=1.9.0 in c:\\users\\basiab1\\appdata\\local\\continuum\\anaconda3\\lib\\site-packages (from virtualenv) (1.11.0)\n",
      "Requirement already satisfied: filelock<4,>=3.0.0 in c:\\users\\basiab1\\appdata\\local\\continuum\\anaconda3\\lib\\site-packages (from virtualenv) (3.0.10)\n",
      "Requirement already satisfied: distlib<1,>=0.3.0 in c:\\users\\basiab1\\appdata\\local\\continuum\\anaconda3\\lib\\site-packages (from virtualenv) (0.3.0)\n",
      "Requirement already satisfied: zipp>=0.5 in c:\\users\\basiab1\\appdata\\local\\continuum\\anaconda3\\lib\\site-packages (from importlib-metadata<2,>=0.12; python_version < \"3.8\"->virtualenv) (0.5.2)\n"
     ]
    },
    {
     "data": {
      "text/html": [
       "        <script type=\"text/javascript\">\n",
       "        window.PlotlyConfig = {MathJaxConfig: 'local'};\n",
       "        if (window.MathJax) {MathJax.Hub.Config({SVG: {font: \"STIX-Web\"}});}\n",
       "        if (typeof require !== 'undefined') {\n",
       "        require.undef(\"plotly\");\n",
       "        requirejs.config({\n",
       "            paths: {\n",
       "                'plotly': ['https://cdn.plot.ly/plotly-latest.min']\n",
       "            }\n",
       "        });\n",
       "        require(['plotly'], function(Plotly) {\n",
       "            window._Plotly = Plotly;\n",
       "        });\n",
       "        }\n",
       "        </script>\n",
       "        "
      ]
     },
     "metadata": {},
     "output_type": "display_data"
    }
   ],
   "source": [
    "from __future__ import print_function, division\n",
    "from bs4 import BeautifulSoup\n",
    "\n",
    "!pip install plotly\n",
    "!pip install cufflinks\n",
    "\n",
    "import matplotlib.pyplot as plt\n",
    "import statsmodels.formula.api as smf\n",
    "import pandas as pd\n",
    "import plotly.offline as py\n",
    "import plotly.graph_objs as go\n",
    "import string\n",
    "import os\n",
    "import numpy as np\n",
    "import sys\n",
    "import math\n",
    "import scipy.stats\n",
    "import density\n",
    "import random\n",
    "import hypothesis\n",
    "import scatter\n",
    "import requests\n",
    "import re, string\n",
    "import random\n",
    "import sklearn\n",
    "import twitter\n",
    "\n",
    "\n",
    "!apt-get update\n",
    "!apt-get install -y default-jdk\n",
    "!pip install tabula-py xlrd lxml\n",
    "!pip install tweepy\n",
    "!pip install Tkinter\n",
    "!pip install Textblob\n",
    "!pip install -r requirements.txt\n",
    "!pip install virtualenv\n",
    "\n",
    "py.init_notebook_mode(connected=True)"
   ]
  },
  {
   "cell_type": "markdown",
   "metadata": {},
   "source": [
    "## TASK 1 : Connect to the supplied petsDB, and write a function to check if the connection is done"
   ]
  },
  {
   "cell_type": "code",
   "execution_count": 7,
   "metadata": {},
   "outputs": [],
   "source": [
    "import sqlite3"
   ]
  },
  {
   "cell_type": "code",
   "execution_count": 8,
   "metadata": {},
   "outputs": [],
   "source": [
    "conn = sqlite3.connect(\"petsdb\")"
   ]
  },
  {
   "cell_type": "code",
   "execution_count": 9,
   "metadata": {},
   "outputs": [],
   "source": [
    "# a tiny function to make sure the connection is successful\n",
    "def is_opened(conn):\n",
    "    try:\n",
    "        conn.execute(\"SELECT * FROM persons LIMIT 1\")\n",
    "        return True\n",
    "    except sqlite3.ProgrammingError as e:\n",
    "        print(\"Connection closed {}\".format(e))\n",
    "        return False"
   ]
  },
  {
   "cell_type": "code",
   "execution_count": 10,
   "metadata": {},
   "outputs": [
    {
     "name": "stdout",
     "output_type": "stream",
     "text": [
      "True\n"
     ]
    }
   ],
   "source": [
    "print(is_opened(conn))"
   ]
  },
  {
   "cell_type": "code",
   "execution_count": 11,
   "metadata": {},
   "outputs": [
    {
     "name": "stdout",
     "output_type": "stream",
     "text": [
      "True\n"
     ]
    }
   ],
   "source": [
    "print(is_opened(conn))"
   ]
  },
  {
   "cell_type": "code",
   "execution_count": 12,
   "metadata": {},
   "outputs": [],
   "source": [
    "conn.close()"
   ]
  },
  {
   "cell_type": "code",
   "execution_count": 13,
   "metadata": {},
   "outputs": [
    {
     "name": "stdout",
     "output_type": "stream",
     "text": [
      "Connection closed Cannot operate on a closed database.\n",
      "False\n"
     ]
    }
   ],
   "source": [
    "print(is_opened(conn))"
   ]
  },
  {
   "cell_type": "markdown",
   "metadata": {},
   "source": [
    "## TASK 2: What are the different age groups in the persons database"
   ]
  },
  {
   "cell_type": "code",
   "execution_count": 14,
   "metadata": {},
   "outputs": [],
   "source": [
    "conn = sqlite3.connect(\"petsdb\")"
   ]
  },
  {
   "cell_type": "code",
   "execution_count": 15,
   "metadata": {},
   "outputs": [],
   "source": [
    "c = conn.cursor()"
   ]
  },
  {
   "cell_type": "code",
   "execution_count": 16,
   "metadata": {},
   "outputs": [
    {
     "name": "stdout",
     "output_type": "stream",
     "text": [
      "We have 2 people aged 5\n",
      "We have 1 people aged 6\n",
      "We have 1 people aged 7\n",
      "We have 3 people aged 8\n",
      "We have 1 people aged 9\n",
      "We have 2 people aged 11\n",
      "We have 3 people aged 12\n",
      "We have 1 people aged 13\n",
      "We have 4 people aged 14\n",
      "We have 2 people aged 16\n",
      "We have 2 people aged 17\n",
      "We have 3 people aged 18\n",
      "We have 1 people aged 19\n",
      "We have 3 people aged 22\n",
      "We have 2 people aged 23\n",
      "We have 3 people aged 24\n",
      "We have 2 people aged 25\n",
      "We have 1 people aged 27\n",
      "We have 1 people aged 30\n",
      "We have 3 people aged 31\n",
      "We have 1 people aged 32\n",
      "We have 1 people aged 33\n",
      "We have 2 people aged 34\n",
      "We have 3 people aged 35\n",
      "We have 3 people aged 36\n",
      "We have 1 people aged 37\n",
      "We have 2 people aged 39\n",
      "We have 1 people aged 40\n",
      "We have 1 people aged 42\n",
      "We have 2 people aged 44\n",
      "We have 2 people aged 48\n",
      "We have 1 people aged 49\n",
      "We have 1 people aged 50\n",
      "We have 2 people aged 51\n",
      "We have 2 people aged 52\n",
      "We have 2 people aged 53\n",
      "We have 2 people aged 54\n",
      "We have 1 people aged 58\n",
      "We have 1 people aged 59\n",
      "We have 1 people aged 60\n",
      "We have 1 people aged 61\n",
      "We have 2 people aged 62\n",
      "We have 1 people aged 63\n",
      "We have 2 people aged 65\n",
      "We have 2 people aged 66\n",
      "We have 1 people aged 67\n",
      "We have 3 people aged 68\n",
      "We have 1 people aged 69\n",
      "We have 1 people aged 70\n",
      "We have 4 people aged 71\n",
      "We have 1 people aged 72\n",
      "We have 5 people aged 73\n",
      "We have 3 people aged 74\n"
     ]
    }
   ],
   "source": [
    "for ppl, age in c.execute(\"SELECT count(*), age FROM persons GROUP BY age\"):\n",
    "    print(\"We have {} people aged {}\".format(ppl, age))"
   ]
  },
  {
   "cell_type": "markdown",
   "metadata": {},
   "source": [
    "## Task 3: Which age group has maximum number of people?"
   ]
  },
  {
   "cell_type": "code",
   "execution_count": 17,
   "metadata": {},
   "outputs": [
    {
     "name": "stdout",
     "output_type": "stream",
     "text": [
      "Highest number of people 5 came from 73 age group\n"
     ]
    }
   ],
   "source": [
    "for ppl, age in c.execute(\"SELECT count(*), age FROM persons GROUP BY age ORDER BY count(*) DESC\"):\n",
    "    print(\"Highest number of people {} came from {} age group\".format(ppl, age))\n",
    "    break"
   ]
  },
  {
   "cell_type": "markdown",
   "metadata": {},
   "source": [
    "## Task 4: How many people do not have a full name (Last name is blank/null"
   ]
  },
  {
   "cell_type": "code",
   "execution_count": 18,
   "metadata": {},
   "outputs": [
    {
     "name": "stdout",
     "output_type": "stream",
     "text": [
      "(60,)\n"
     ]
    }
   ],
   "source": [
    "res = c.execute(\"SELECT count(*) FROM persons WHERE last_name IS null\")\n",
    "for row in res:\n",
    "    print(row)"
   ]
  },
  {
   "cell_type": "markdown",
   "metadata": {},
   "source": [
    "## Task 5: How many people has more than one pet?"
   ]
  },
  {
   "cell_type": "code",
   "execution_count": 19,
   "metadata": {},
   "outputs": [
    {
     "name": "stdout",
     "output_type": "stream",
     "text": [
      "43 People has more than one pets\n"
     ]
    }
   ],
   "source": [
    "res = c.execute(\"SELECT count(*) FROM (SELECT count(owner_id) FROM pets GROUP BY owner_id HAVING count(owner_id) >1)\")\n",
    "for row in res:\n",
    "    print(\"{} People has more than one pets\".format(row[0]))"
   ]
  },
  {
   "cell_type": "markdown",
   "metadata": {},
   "source": [
    "## Task 6: How many pets have received treaments?"
   ]
  },
  {
   "cell_type": "code",
   "execution_count": 20,
   "metadata": {},
   "outputs": [
    {
     "name": "stdout",
     "output_type": "stream",
     "text": [
      "(36,)\n"
     ]
    }
   ],
   "source": [
    "res = c.execute(\"SELECT count(*) FROM pets WHERE treatment_done=1\")\n",
    "for row in res:\n",
    "    print(row)"
   ]
  },
  {
   "cell_type": "markdown",
   "metadata": {
    "scrolled": true
   },
   "source": [
    "## Task 7: How many pets have received treatment that we know the type of?"
   ]
  },
  {
   "cell_type": "code",
   "execution_count": 21,
   "metadata": {},
   "outputs": [
    {
     "name": "stdout",
     "output_type": "stream",
     "text": [
      "(16,)\n"
     ]
    }
   ],
   "source": [
    "res = c.execute(\"SELECT count(*) FROM pets WHERE treatment_done=1 AND pet_type IS NOT null\")\n",
    "for row in res:\n",
    "    print(row)"
   ]
  },
  {
   "cell_type": "markdown",
   "metadata": {},
   "source": [
    "## Task 8: How many pets are there from the city called \"east port\""
   ]
  },
  {
   "cell_type": "code",
   "execution_count": 22,
   "metadata": {},
   "outputs": [
    {
     "name": "stdout",
     "output_type": "stream",
     "text": [
      "(49,)\n"
     ]
    }
   ],
   "source": [
    "res = c.execute(\"SELECT count(*) FROM pets JOIN persons ON pets.owner_id = persons.id WHERE persons.city='east port'\")\n",
    "for row in res:\n",
    "    print(row)"
   ]
  },
  {
   "cell_type": "markdown",
   "metadata": {},
   "source": [
    "## Task 9: How many pets are there from the city called \"east port\" and who received a treatment?"
   ]
  },
  {
   "cell_type": "code",
   "execution_count": 23,
   "metadata": {},
   "outputs": [
    {
     "name": "stdout",
     "output_type": "stream",
     "text": [
      "(11,)\n"
     ]
    }
   ],
   "source": [
    "res = c.execute(\"SELECT count(*) FROM pets JOIN persons ON pets.owner_id = persons.id WHERE persons.city='east port' AND pets.treatment_done=1\")\n",
    "for row in res:\n",
    "    print(row)"
   ]
  }
 ],
 "metadata": {
  "kernelspec": {
   "display_name": "Python 3",
   "language": "python",
   "name": "python3"
  },
  "language_info": {
   "codemirror_mode": {
    "name": "ipython",
    "version": 3
   },
   "file_extension": ".py",
   "mimetype": "text/x-python",
   "name": "python",
   "nbconvert_exporter": "python",
   "pygments_lexer": "ipython3",
   "version": "3.7.1"
  }
 },
 "nbformat": 4,
 "nbformat_minor": 2
}
